{
 "cells": [
  {
   "cell_type": "markdown",
   "id": "17179c2a",
   "metadata": {},
   "source": [
    "# Работа с Себестоимостями "
   ]
  },
  {
   "cell_type": "markdown",
   "id": "2253e957",
   "metadata": {},
   "source": [
    "### Импорты"
   ]
  },
  {
   "cell_type": "code",
   "execution_count": 1,
   "id": "5f4bc029",
   "metadata": {},
   "outputs": [],
   "source": [
    "import pandas as pd\n",
    "import re\n",
    "pd.options.mode.chained_assignment = None\n",
    "import datetime\n",
    "import numpy as np\n",
    "import glob\n",
    "import openpyxl\n",
    "from openpyxl.styles import Font, PatternFill\n",
    "import glob\n",
    "from pydrive.auth import GoogleAuth\n",
    "from pydrive.drive import GoogleDrive\n",
    "from sys import exit\n",
    "import sys\n",
    "link_to_table = 'https://docs.google.com/spreadsheets/d/1A1TyZPeq9r2HiDi-CHfmTfRpuAQYToib1vqyTx4ZyRE/edit#gid=0'\n",
    "df = pd.read_excel('/'.join(link_to_table.split('/')[:-1])+'/export?format=xlsx')\n",
    "PATH, df = [dict(df.loc[x]) for x in list(df.index)], None\n",
    "i = 0\n",
    "while len([py for py in glob.glob(f\"{PATH[i]['path_downloads']}*.xlsx\")]) == 0:\n",
    "    i +=1\n",
    "path_downloads = PATH[i]['path_downloads']\n",
    "path_algoritm = PATH[i]['path_algoritm']\n",
    "sys.path.append(f'{path_algoritm}Модули')\n",
    "import constants_for_marketplace_metrics_dags as const\n",
    "import working_with_marketplace_metrics_dags as wwm\n",
    "import maslow_working_module as mwm"
   ]
  },
  {
   "cell_type": "code",
   "execution_count": null,
   "id": "4bdf80d0",
   "metadata": {},
   "outputs": [],
   "source": []
  },
  {
   "cell_type": "markdown",
   "id": "f756abf6",
   "metadata": {},
   "source": [
    "### Путь к файлам"
   ]
  },
  {
   "cell_type": "code",
   "execution_count": 2,
   "id": "96f6782a",
   "metadata": {},
   "outputs": [],
   "source": [
    "# PATH = [\n",
    "    \n",
    "#      {'path_downloads': '/Users/internetrevolution/Белодедов/Копия работы Маслов/Загрузки Маслов/',\n",
    "#       'path_algoritm': '/Users/internetrevolution/Белодедов/Копия работы Маслов/Алгоритмы Маслов/'} ,\n",
    "     \n",
    "#      {'path_downloads': 'G:/Другие компьютеры/iMac/Белодедов/Копия работы Маслов/Загрузки Маслов/',\n",
    "#       'path_algoritm': 'G:/Другие компьютеры/iMac/Белодедов/Копия работы Маслов/Алгоритмы Маслов/'},\n",
    "    \n",
    "#      {'path_downloads': '/Users/macbook/Library/CloudStorage/GoogleDrive-maslowdmitry92@gmail.com/Мой диск/Загрузки Маслов/',\n",
    "#       'path_algoritm': '/Users/macbook/Library/CloudStorage/GoogleDrive-maslowdmitry92@gmail.com/Мой диск/Алгоритмы Маслов/'} ,\n",
    "     \n",
    "#      {'path_downloads': '/Users/dmitriymaslov/Мой диск/Загрузки Маслов/',\n",
    "#       'path_algoritm': '/Users/dmitriymaslov/Мой диск/Алгоритмы Маслов/'}\n",
    "     \n",
    "#     ]\n",
    "         \n",
    "# i = 0\n",
    "# while len([py for py in glob.glob(f\"{PATH[i]['path_downloads']}*.xlsx\")]) == 0:\n",
    "#     i +=1\n",
    "\n",
    "# path_downloads = PATH[i]['path_downloads']\n",
    "# path_algoritm = PATH[i]['path_algoritm']\n",
    "\n",
    "# print(f\"Загрузки: {path_downloads}\")\n",
    "# print(f\"Папка с алгоритмом: {path_algoritm}\")"
   ]
  },
  {
   "cell_type": "code",
   "execution_count": null,
   "id": "5dbce51a",
   "metadata": {},
   "outputs": [],
   "source": []
  },
  {
   "cell_type": "code",
   "execution_count": null,
   "id": "523fd159",
   "metadata": {},
   "outputs": [],
   "source": []
  },
  {
   "cell_type": "code",
   "execution_count": 3,
   "id": "1bc5ea3a",
   "metadata": {},
   "outputs": [],
   "source": [
    "def letter_substitution(data):\n",
    "    \n",
    "    data = data.rename(columns={data.columns[0]: 'Артикул'})\n",
    "    data['Артикул'] = data['Артикул'].astype(str)\n",
    "    data = data.reset_index(drop=True)\n",
    "    \n",
    "    fa = list(filter(lambda x: re.compile('[^а-яА-Я ]').sub('', x), list(data['Артикул'])))\n",
    "\n",
    "    if len(fa) > 0:\n",
    "\n",
    "        Q = {'е': 'e', \n",
    "             'Е': 'E', \n",
    "             'Т': 'T', \n",
    "             'у': 'y', \n",
    "             'о': 'o', \n",
    "             'О': 'O', \n",
    "             'р': 'p', \n",
    "             'Р': 'P', \n",
    "             'а': 'a', \n",
    "             'А': 'A', \n",
    "             'Н': 'H',\n",
    "             'К': 'K',\n",
    "             'х': 'x',\n",
    "             'Х': 'X',\n",
    "             'с': 'c',\n",
    "             'С': 'C',\n",
    "             'В': 'B',\n",
    "             'М': 'M'}\n",
    "\n",
    "        for i in range(len(data)):\n",
    "\n",
    "            for row in list(Q.keys()):\n",
    "\n",
    "                if row in data.loc[i]['Артикул']:\n",
    "\n",
    "                    data['Артикул'].loc[i] = data.loc[i]['Артикул'].replace(row, Q[row])\n",
    "\n",
    "\n",
    "#     fa2 = list(filter(lambda x: re.compile('[^а-яА-Я ]').sub('', x), list(data['Артикул'])))\n",
    "\n",
    "#     if len(fa2) == 0:\n",
    "\n",
    "    return data\n",
    "\n",
    "\n",
    "\n"
   ]
  },
  {
   "cell_type": "code",
   "execution_count": 4,
   "id": "2e798dcb",
   "metadata": {},
   "outputs": [],
   "source": [
    "# актуальная себестоимость\n",
    "\n",
    "path_cp = path_algoritm + 'ОБЩИЕ ПРИЗНАКИ ДЛЯ МЕТРИК/Себестоимость /cost_price 2.0.xlsx'\n",
    "\n",
    "\n",
    "# себестоимость Саши\n",
    "\n",
    "path_cp_s = path_downloads + 'Себестоимость сведенная.xlsx'\n",
    "\n",
    "# себестоимость Саши2.0\n",
    "\n",
    "# path_cp_s_new = path_downloads + 'Себестоимость сведенная_new().xlsx'"
   ]
  },
  {
   "cell_type": "code",
   "execution_count": null,
   "id": "bc14a7c8",
   "metadata": {},
   "outputs": [],
   "source": []
  },
  {
   "cell_type": "code",
   "execution_count": 5,
   "id": "7bc98772",
   "metadata": {},
   "outputs": [],
   "source": [
    "# cp_s_new = letter_substitution(pd.read_excel(path_cp_s_new,\n",
    "#                                sheet_name='Для метрик',\n",
    "#                                usecols=['Артикул', 'Себестоимость с НДС для наценки'],\n",
    "#                                dtype={'Артикул': 'str',\n",
    "#                                       'Себестоимость с НДС для наценки': 'float'}))\\\n",
    "#            .rename(columns={'Себестоимость с НДС для наценки': 'Себестоимость'})\n",
    "# if len(cp_s_new) - len(list(set(cp_s_new['Артикул']))) != 0 or cp_s_new.isna().sum().sum() != 0:\n",
    "#     exit()\n",
    "# else:\n",
    "#     cp_s_new.to_excel(path_cp, index=False)\n",
    "    \n",
    "# # Подключение к гугл диску, аутентефикация\n",
    "\n",
    "# gauth = GoogleAuth()\n",
    "# gauth.LocalWebserverAuth()\n",
    "# drive = GoogleDrive(gauth)\n",
    "\n",
    "\n",
    "# # Находим \"id\" папки \"Дима\"\n",
    "\n",
    "# id_folder_Dima = [x['id'] for x in drive\\\n",
    "#                  .ListFile({'q': \"'root' in parents and trashed=false\"}).GetList() if x['title'] == \"Дима\"]\n",
    "# if len(id_folder_Dima) != 1:\n",
    "#     print('error')\n",
    "#     int('error')\n",
    "# else:\n",
    "#     id_folder_Dima = id_folder_Dima[0]\n",
    "\n",
    "    \n",
    "# # Находим \"id\" файла \"cost_price 2.0\" в папке \"Дима\"\n",
    "\n",
    "# id_cp = [x['id'] for x in drive.ListFile({'q': f\"'{id_folder_Dima}' in parents and trashed=false\"})\\\n",
    "# .GetList() if 'cost_price 2.0' in x['title']]\n",
    "\n",
    "# if len(id_cp) != 1:\n",
    "#     print('error')\n",
    "#     int('error')\n",
    "# else:\n",
    "#     id_cp = id_cp[0]\n",
    "\n",
    "    \n",
    "# # Путь к файлу \"cost_price 2.0\" на локальном компьютере\n",
    "\n",
    "# path_file = path_algoritm + \"ОБЩИЕ ПРИЗНАКИ ДЛЯ МЕТРИК/Себестоимость /cost_price 2.0.xlsx\"\n",
    "\n",
    "\n",
    "# # Обновление файла \"cost_price 2.0\" на корпоративном гугл диске \n",
    "\n",
    "# file = drive.CreateFile({'id': id_cp})\n",
    "# file.SetContentFile(path_file)\n",
    "# file.Upload()"
   ]
  },
  {
   "cell_type": "code",
   "execution_count": null,
   "id": "97f42280",
   "metadata": {},
   "outputs": [],
   "source": []
  },
  {
   "cell_type": "code",
   "execution_count": null,
   "id": "76836257",
   "metadata": {},
   "outputs": [],
   "source": []
  },
  {
   "cell_type": "code",
   "execution_count": null,
   "id": "77785f55",
   "metadata": {},
   "outputs": [],
   "source": []
  },
  {
   "cell_type": "code",
   "execution_count": 6,
   "id": "a0f239d8",
   "metadata": {},
   "outputs": [],
   "source": [
    "# pd.read_excel(path_cp_s_new,\n",
    "#            sheet_name='Для метрик',\n",
    "#            usecols=['Артикул', 'Себестоимость с НДС для наценки'],\n",
    "#            dtype={'Артикул': 'str',\n",
    "#                   'Себестоимость с НДС для наценки': 'float'})\\\n",
    "# .rename(columns={'Себестоимость с НДС для наценки': 'Себестоимость'})"
   ]
  },
  {
   "cell_type": "code",
   "execution_count": null,
   "id": "ec8c9492",
   "metadata": {},
   "outputs": [],
   "source": []
  },
  {
   "cell_type": "code",
   "execution_count": null,
   "id": "cd943b46",
   "metadata": {},
   "outputs": [],
   "source": []
  },
  {
   "cell_type": "code",
   "execution_count": null,
   "id": "56382a1d",
   "metadata": {},
   "outputs": [],
   "source": []
  },
  {
   "cell_type": "code",
   "execution_count": null,
   "id": "fd9c7dba",
   "metadata": {},
   "outputs": [],
   "source": []
  },
  {
   "cell_type": "code",
   "execution_count": 7,
   "id": "ac5144fe",
   "metadata": {},
   "outputs": [],
   "source": [
    "# Q = \"\"\"19300\n",
    "# 28904\n",
    "# 50110\n",
    "# 50220\n",
    "# 50366\n",
    "# 50490\n",
    "# 50540\n",
    "# A1813\n",
    "# G0019\n",
    "# G0030\n",
    "# G0032\n",
    "# G0033\n",
    "# G0034\n",
    "# G0035\n",
    "# G0037\n",
    "# G0052\n",
    "# G0053\n",
    "# G0054\n",
    "# G0110\n",
    "# G0290\n",
    "# G0310\n",
    "# J0580\n",
    "# A2223\n",
    "# K0071\n",
    "# 51001\n",
    "# A4905\n",
    "# A4906\n",
    "# G0301\n",
    "# G0520\n",
    "# G0521\"\"\".split('\\n')\n",
    "# cp = pd.read_excel(path_cp)\n",
    "# cp['Артикул'] = cp['Артикул'].astype(str)\n",
    "# cp[cp['Артикул'].isin(Q)].reset_index(drop=True).to_excel(path_downloads + 'Себестоимость части товаров.xlsx', index=False)"
   ]
  },
  {
   "cell_type": "code",
   "execution_count": null,
   "id": "db7315a4",
   "metadata": {},
   "outputs": [],
   "source": []
  },
  {
   "cell_type": "code",
   "execution_count": null,
   "id": "5586e866",
   "metadata": {},
   "outputs": [],
   "source": []
  },
  {
   "cell_type": "code",
   "execution_count": null,
   "id": "066679aa",
   "metadata": {},
   "outputs": [],
   "source": []
  },
  {
   "cell_type": "code",
   "execution_count": null,
   "id": "c9c67de3",
   "metadata": {},
   "outputs": [],
   "source": []
  },
  {
   "cell_type": "code",
   "execution_count": null,
   "id": "9d3ee85e",
   "metadata": {},
   "outputs": [],
   "source": []
  },
  {
   "cell_type": "code",
   "execution_count": null,
   "id": "9d6c11c4",
   "metadata": {},
   "outputs": [],
   "source": []
  },
  {
   "cell_type": "code",
   "execution_count": null,
   "id": "57598176",
   "metadata": {},
   "outputs": [],
   "source": []
  },
  {
   "cell_type": "code",
   "execution_count": null,
   "id": "55b7ac6d",
   "metadata": {},
   "outputs": [],
   "source": []
  },
  {
   "cell_type": "code",
   "execution_count": null,
   "id": "dc364026",
   "metadata": {},
   "outputs": [],
   "source": []
  },
  {
   "cell_type": "code",
   "execution_count": null,
   "id": "606c74dc",
   "metadata": {},
   "outputs": [],
   "source": []
  },
  {
   "cell_type": "code",
   "execution_count": 8,
   "id": "3658127d",
   "metadata": {},
   "outputs": [],
   "source": [
    "cp_s = pd.read_excel(path_cp_s,\n",
    "                     sheet_name='Для метрик',\n",
    "                     usecols=['Артикул', 'Себестоимость с НДС для наценки'],\n",
    "                     dtype={'Артикул': 'str',\n",
    "                            'Себестоимость с НДС для наценки': 'float'})\\\n",
    ".rename(columns={'Себестоимость с НДС для наценки': 'Себестоимость'})"
   ]
  },
  {
   "cell_type": "code",
   "execution_count": 9,
   "id": "67092f41",
   "metadata": {},
   "outputs": [
    {
     "data": {
      "text/html": [
       "<div>\n",
       "<style scoped>\n",
       "    .dataframe tbody tr th:only-of-type {\n",
       "        vertical-align: middle;\n",
       "    }\n",
       "\n",
       "    .dataframe tbody tr th {\n",
       "        vertical-align: top;\n",
       "    }\n",
       "\n",
       "    .dataframe thead th {\n",
       "        text-align: right;\n",
       "    }\n",
       "</style>\n",
       "<table border=\"1\" class=\"dataframe\">\n",
       "  <thead>\n",
       "    <tr style=\"text-align: right;\">\n",
       "      <th></th>\n",
       "      <th>Артикул</th>\n",
       "      <th>Себестоимость</th>\n",
       "    </tr>\n",
       "  </thead>\n",
       "  <tbody>\n",
       "    <tr>\n",
       "      <th>489</th>\n",
       "      <td>A3508</td>\n",
       "      <td>87.72</td>\n",
       "    </tr>\n",
       "  </tbody>\n",
       "</table>\n",
       "</div>"
      ],
      "text/plain": [
       "    Артикул  Себестоимость\n",
       "489   A3508          87.72"
      ]
     },
     "execution_count": 9,
     "metadata": {},
     "output_type": "execute_result"
    }
   ],
   "source": [
    "cp_s[cp_s['Артикул']=='A3508']"
   ]
  },
  {
   "cell_type": "code",
   "execution_count": 10,
   "id": "4a944827",
   "metadata": {},
   "outputs": [
    {
     "data": {
      "text/html": [
       "<div>\n",
       "<style scoped>\n",
       "    .dataframe tbody tr th:only-of-type {\n",
       "        vertical-align: middle;\n",
       "    }\n",
       "\n",
       "    .dataframe tbody tr th {\n",
       "        vertical-align: top;\n",
       "    }\n",
       "\n",
       "    .dataframe thead th {\n",
       "        text-align: right;\n",
       "    }\n",
       "</style>\n",
       "<table border=\"1\" class=\"dataframe\">\n",
       "  <thead>\n",
       "    <tr style=\"text-align: right;\">\n",
       "      <th></th>\n",
       "      <th>Артикул</th>\n",
       "      <th>Себестоимость</th>\n",
       "    </tr>\n",
       "  </thead>\n",
       "  <tbody>\n",
       "    <tr>\n",
       "      <th>0</th>\n",
       "      <td>16801</td>\n",
       "      <td>243.71</td>\n",
       "    </tr>\n",
       "    <tr>\n",
       "      <th>1</th>\n",
       "      <td>16802</td>\n",
       "      <td>243.71</td>\n",
       "    </tr>\n",
       "    <tr>\n",
       "      <th>2</th>\n",
       "      <td>16803</td>\n",
       "      <td>243.71</td>\n",
       "    </tr>\n",
       "    <tr>\n",
       "      <th>3</th>\n",
       "      <td>16804</td>\n",
       "      <td>243.71</td>\n",
       "    </tr>\n",
       "    <tr>\n",
       "      <th>4</th>\n",
       "      <td>16920</td>\n",
       "      <td>42.59</td>\n",
       "    </tr>\n",
       "    <tr>\n",
       "      <th>...</th>\n",
       "      <td>...</td>\n",
       "      <td>...</td>\n",
       "    </tr>\n",
       "    <tr>\n",
       "      <th>991</th>\n",
       "      <td>Z0247</td>\n",
       "      <td>648.94</td>\n",
       "    </tr>\n",
       "    <tr>\n",
       "      <th>992</th>\n",
       "      <td>Z0400</td>\n",
       "      <td>265.66</td>\n",
       "    </tr>\n",
       "    <tr>\n",
       "      <th>993</th>\n",
       "      <td>Z0401</td>\n",
       "      <td>570.14</td>\n",
       "    </tr>\n",
       "    <tr>\n",
       "      <th>994</th>\n",
       "      <td>Z0500</td>\n",
       "      <td>945.68</td>\n",
       "    </tr>\n",
       "    <tr>\n",
       "      <th>995</th>\n",
       "      <td>Z0501</td>\n",
       "      <td>503.49</td>\n",
       "    </tr>\n",
       "  </tbody>\n",
       "</table>\n",
       "<p>996 rows × 2 columns</p>\n",
       "</div>"
      ],
      "text/plain": [
       "    Артикул  Себестоимость\n",
       "0     16801         243.71\n",
       "1     16802         243.71\n",
       "2     16803         243.71\n",
       "3     16804         243.71\n",
       "4     16920          42.59\n",
       "..      ...            ...\n",
       "991   Z0247         648.94\n",
       "992   Z0400         265.66\n",
       "993   Z0401         570.14\n",
       "994   Z0500         945.68\n",
       "995   Z0501         503.49\n",
       "\n",
       "[996 rows x 2 columns]"
      ]
     },
     "execution_count": 10,
     "metadata": {},
     "output_type": "execute_result"
    }
   ],
   "source": [
    "cp_s"
   ]
  },
  {
   "cell_type": "code",
   "execution_count": 11,
   "id": "94c2233b",
   "metadata": {},
   "outputs": [
    {
     "data": {
      "text/plain": [
       "0"
      ]
     },
     "execution_count": 11,
     "metadata": {},
     "output_type": "execute_result"
    }
   ],
   "source": [
    "# cp_s = pd.read_excel(path_cp_s)\n",
    "# cp_s.columns = list(cp_s.loc[0].values)\n",
    "# cp_s = cp_s[['Документы', 'Актуальная себестоимость с НДС']]\n",
    "Q = list(filter(lambda x: str(list(cp_s.loc[x].values)[0]) == 'nan' and str(list(cp_s.loc[x].values)[-1]) == 'nan', list(cp_s.index)))\n",
    "W = list(filter(lambda x: str(list(cp_s.loc[x].values)[0]) == cp_s.columns[0] and str(list(cp_s.loc[x].values)[-1]) == cp_s.columns[-1], list(cp_s.index)))\n",
    "Q = Q + W\n",
    "cp_s = cp_s.query(\"index not in @Q\").reset_index(drop=True)\n",
    "cp_s.columns = ['Артикул'] + [cp_s.columns[-1]]\n",
    "cp_s['Артикул'] = cp_s['Артикул'].astype(str)\n",
    "# cp_s = letter_substitution(cp_s)\n",
    "len(cp_s) - len(list(set(cp_s['Артикул'])))"
   ]
  },
  {
   "cell_type": "code",
   "execution_count": 12,
   "id": "f42f6572",
   "metadata": {},
   "outputs": [
    {
     "data": {
      "text/plain": [
       "0"
      ]
     },
     "execution_count": 12,
     "metadata": {},
     "output_type": "execute_result"
    }
   ],
   "source": [
    "cp = pd.read_excel(path_cp)\n",
    "cp['Артикул'] = cp['Артикул'].astype(str)\n",
    "# cp = letter_substitution(cp)\n",
    "len(cp) - len(list(set(cp['Артикул'])))"
   ]
  },
  {
   "cell_type": "code",
   "execution_count": 13,
   "id": "26e2bd75",
   "metadata": {},
   "outputs": [
    {
     "data": {
      "text/html": [
       "<div>\n",
       "<style scoped>\n",
       "    .dataframe tbody tr th:only-of-type {\n",
       "        vertical-align: middle;\n",
       "    }\n",
       "\n",
       "    .dataframe tbody tr th {\n",
       "        vertical-align: top;\n",
       "    }\n",
       "\n",
       "    .dataframe thead th {\n",
       "        text-align: right;\n",
       "    }\n",
       "</style>\n",
       "<table border=\"1\" class=\"dataframe\">\n",
       "  <thead>\n",
       "    <tr style=\"text-align: right;\">\n",
       "      <th></th>\n",
       "      <th>Артикул</th>\n",
       "      <th>Себестоимость</th>\n",
       "    </tr>\n",
       "  </thead>\n",
       "  <tbody>\n",
       "    <tr>\n",
       "      <th>0</th>\n",
       "      <td>16801</td>\n",
       "      <td>243.710000</td>\n",
       "    </tr>\n",
       "    <tr>\n",
       "      <th>1</th>\n",
       "      <td>16802</td>\n",
       "      <td>243.710000</td>\n",
       "    </tr>\n",
       "    <tr>\n",
       "      <th>2</th>\n",
       "      <td>16803</td>\n",
       "      <td>243.710000</td>\n",
       "    </tr>\n",
       "    <tr>\n",
       "      <th>3</th>\n",
       "      <td>16804</td>\n",
       "      <td>243.710000</td>\n",
       "    </tr>\n",
       "    <tr>\n",
       "      <th>4</th>\n",
       "      <td>16920</td>\n",
       "      <td>42.590000</td>\n",
       "    </tr>\n",
       "    <tr>\n",
       "      <th>...</th>\n",
       "      <td>...</td>\n",
       "      <td>...</td>\n",
       "    </tr>\n",
       "    <tr>\n",
       "      <th>1365</th>\n",
       "      <td>27603</td>\n",
       "      <td>333.000000</td>\n",
       "    </tr>\n",
       "    <tr>\n",
       "      <th>1366</th>\n",
       "      <td>20600</td>\n",
       "      <td>30.762308</td>\n",
       "    </tr>\n",
       "    <tr>\n",
       "      <th>1367</th>\n",
       "      <td>BK0171</td>\n",
       "      <td>443.880000</td>\n",
       "    </tr>\n",
       "    <tr>\n",
       "      <th>1368</th>\n",
       "      <td>A2501BT</td>\n",
       "      <td>344.320000</td>\n",
       "    </tr>\n",
       "    <tr>\n",
       "      <th>1369</th>\n",
       "      <td>G0653</td>\n",
       "      <td>696.450000</td>\n",
       "    </tr>\n",
       "  </tbody>\n",
       "</table>\n",
       "<p>1370 rows × 2 columns</p>\n",
       "</div>"
      ],
      "text/plain": [
       "      Артикул  Себестоимость\n",
       "0       16801     243.710000\n",
       "1       16802     243.710000\n",
       "2       16803     243.710000\n",
       "3       16804     243.710000\n",
       "4       16920      42.590000\n",
       "...       ...            ...\n",
       "1365    27603     333.000000\n",
       "1366    20600      30.762308\n",
       "1367   BK0171     443.880000\n",
       "1368  A2501BT     344.320000\n",
       "1369    G0653     696.450000\n",
       "\n",
       "[1370 rows x 2 columns]"
      ]
     },
     "execution_count": 13,
     "metadata": {},
     "output_type": "execute_result"
    }
   ],
   "source": [
    "cp"
   ]
  },
  {
   "cell_type": "code",
   "execution_count": 14,
   "id": "b2ed5b89",
   "metadata": {},
   "outputs": [
    {
     "data": {
      "text/plain": [
       "['20500К', '20501К', '20501Р', 'B0072Н', 'G0182к', 'безназвания', 'с20502']"
      ]
     },
     "execution_count": 14,
     "metadata": {},
     "output_type": "execute_result"
    }
   ],
   "source": [
    "list(filter(lambda x: re.compile('[^а-яА-Я ]').sub('', x), list(cp['Артикул'])))"
   ]
  },
  {
   "cell_type": "code",
   "execution_count": 15,
   "id": "c12aae39",
   "metadata": {},
   "outputs": [],
   "source": [
    "# cp = cp.drop_duplicates().reset_index(drop=True)"
   ]
  },
  {
   "cell_type": "code",
   "execution_count": 16,
   "id": "513a5e0e",
   "metadata": {},
   "outputs": [
    {
     "data": {
      "text/plain": [
       "0"
      ]
     },
     "execution_count": 16,
     "metadata": {},
     "output_type": "execute_result"
    }
   ],
   "source": [
    "len(cp) - len(list(set(cp['Артикул'])))"
   ]
  },
  {
   "cell_type": "code",
   "execution_count": 17,
   "id": "bae23c94",
   "metadata": {},
   "outputs": [],
   "source": [
    "R = []\n",
    "for i in range(len(cp)):\n",
    "    art = cp.loc[i]['Артикул']\n",
    "    if len(cp[cp['Артикул']==art]) > 1:\n",
    "        display(cp[cp['Артикул']==art])\n",
    "        R.append(art)\n",
    "        \n",
    "R = list(set(R))"
   ]
  },
  {
   "cell_type": "code",
   "execution_count": 18,
   "id": "0fe0d5d0",
   "metadata": {},
   "outputs": [
    {
     "data": {
      "text/html": [
       "<div>\n",
       "<style scoped>\n",
       "    .dataframe tbody tr th:only-of-type {\n",
       "        vertical-align: middle;\n",
       "    }\n",
       "\n",
       "    .dataframe tbody tr th {\n",
       "        vertical-align: top;\n",
       "    }\n",
       "\n",
       "    .dataframe thead th {\n",
       "        text-align: right;\n",
       "    }\n",
       "</style>\n",
       "<table border=\"1\" class=\"dataframe\">\n",
       "  <thead>\n",
       "    <tr style=\"text-align: right;\">\n",
       "      <th></th>\n",
       "      <th>Артикул</th>\n",
       "      <th>Себестоимость</th>\n",
       "    </tr>\n",
       "  </thead>\n",
       "  <tbody>\n",
       "  </tbody>\n",
       "</table>\n",
       "</div>"
      ],
      "text/plain": [
       "Empty DataFrame\n",
       "Columns: [Артикул, Себестоимость]\n",
       "Index: []"
      ]
     },
     "execution_count": 18,
     "metadata": {},
     "output_type": "execute_result"
    }
   ],
   "source": [
    "cp_s.query('Артикул in @R')"
   ]
  },
  {
   "cell_type": "code",
   "execution_count": 19,
   "id": "7b046228",
   "metadata": {},
   "outputs": [],
   "source": [
    "cp_s.columns = cp.columns"
   ]
  },
  {
   "cell_type": "code",
   "execution_count": 20,
   "id": "f9ebec07",
   "metadata": {},
   "outputs": [],
   "source": [
    "cp = cp.query(f\"Артикул in {list(set(np.setdiff1d(list(set(cp['Артикул'])), list(set(cp_s['Артикул'])))))}\").reset_index(drop=True)"
   ]
  },
  {
   "cell_type": "code",
   "execution_count": 21,
   "id": "ac286fa4",
   "metadata": {},
   "outputs": [],
   "source": [
    "cp_s = pd.concat([cp_s, cp], ignore_index=True)"
   ]
  },
  {
   "cell_type": "code",
   "execution_count": 22,
   "id": "79dd6452",
   "metadata": {},
   "outputs": [],
   "source": [
    "# cp.to_excel(path_algoritm + 'Себестоимость товаров, которых нет в \"Себестоимостях от Саши\".xlsx', index=False)"
   ]
  },
  {
   "cell_type": "code",
   "execution_count": 23,
   "id": "05517e0a",
   "metadata": {},
   "outputs": [
    {
     "data": {
      "text/html": [
       "<div>\n",
       "<style scoped>\n",
       "    .dataframe tbody tr th:only-of-type {\n",
       "        vertical-align: middle;\n",
       "    }\n",
       "\n",
       "    .dataframe tbody tr th {\n",
       "        vertical-align: top;\n",
       "    }\n",
       "\n",
       "    .dataframe thead th {\n",
       "        text-align: right;\n",
       "    }\n",
       "</style>\n",
       "<table border=\"1\" class=\"dataframe\">\n",
       "  <thead>\n",
       "    <tr style=\"text-align: right;\">\n",
       "      <th></th>\n",
       "      <th>Артикул</th>\n",
       "      <th>Себестоимость</th>\n",
       "    </tr>\n",
       "  </thead>\n",
       "  <tbody>\n",
       "    <tr>\n",
       "      <th>0</th>\n",
       "      <td>16801</td>\n",
       "      <td>243.710000</td>\n",
       "    </tr>\n",
       "    <tr>\n",
       "      <th>1</th>\n",
       "      <td>16802</td>\n",
       "      <td>243.710000</td>\n",
       "    </tr>\n",
       "    <tr>\n",
       "      <th>2</th>\n",
       "      <td>16803</td>\n",
       "      <td>243.710000</td>\n",
       "    </tr>\n",
       "    <tr>\n",
       "      <th>3</th>\n",
       "      <td>16804</td>\n",
       "      <td>243.710000</td>\n",
       "    </tr>\n",
       "    <tr>\n",
       "      <th>4</th>\n",
       "      <td>16920</td>\n",
       "      <td>42.590000</td>\n",
       "    </tr>\n",
       "    <tr>\n",
       "      <th>...</th>\n",
       "      <td>...</td>\n",
       "      <td>...</td>\n",
       "    </tr>\n",
       "    <tr>\n",
       "      <th>1367</th>\n",
       "      <td>27603</td>\n",
       "      <td>333.000000</td>\n",
       "    </tr>\n",
       "    <tr>\n",
       "      <th>1368</th>\n",
       "      <td>20600</td>\n",
       "      <td>30.762308</td>\n",
       "    </tr>\n",
       "    <tr>\n",
       "      <th>1369</th>\n",
       "      <td>BK0171</td>\n",
       "      <td>443.880000</td>\n",
       "    </tr>\n",
       "    <tr>\n",
       "      <th>1370</th>\n",
       "      <td>A2501BT</td>\n",
       "      <td>344.320000</td>\n",
       "    </tr>\n",
       "    <tr>\n",
       "      <th>1371</th>\n",
       "      <td>G0653</td>\n",
       "      <td>696.450000</td>\n",
       "    </tr>\n",
       "  </tbody>\n",
       "</table>\n",
       "<p>1372 rows × 2 columns</p>\n",
       "</div>"
      ],
      "text/plain": [
       "      Артикул  Себестоимость\n",
       "0       16801     243.710000\n",
       "1       16802     243.710000\n",
       "2       16803     243.710000\n",
       "3       16804     243.710000\n",
       "4       16920      42.590000\n",
       "...       ...            ...\n",
       "1367    27603     333.000000\n",
       "1368    20600      30.762308\n",
       "1369   BK0171     443.880000\n",
       "1370  A2501BT     344.320000\n",
       "1371    G0653     696.450000\n",
       "\n",
       "[1372 rows x 2 columns]"
      ]
     },
     "execution_count": 23,
     "metadata": {},
     "output_type": "execute_result"
    }
   ],
   "source": [
    "cp_s"
   ]
  },
  {
   "cell_type": "code",
   "execution_count": 24,
   "id": "7ea64fa1",
   "metadata": {},
   "outputs": [
    {
     "data": {
      "text/plain": [
       "0"
      ]
     },
     "execution_count": 24,
     "metadata": {},
     "output_type": "execute_result"
    }
   ],
   "source": [
    "len(cp_s) - len(list(set(cp_s['Артикул'])))"
   ]
  },
  {
   "cell_type": "code",
   "execution_count": 25,
   "id": "58c6dd71",
   "metadata": {},
   "outputs": [
    {
     "data": {
      "text/plain": [
       "['20500К',\n",
       " '20501К',\n",
       " '20501Р',\n",
       " 'B0072Н',\n",
       " 'G0182к',\n",
       " 'G0634,',\n",
       " 'G0635,',\n",
       " 'безназвания',\n",
       " 'с20502']"
      ]
     },
     "execution_count": 25,
     "metadata": {},
     "output_type": "execute_result"
    }
   ],
   "source": [
    "list(filter(lambda x: re.compile('[^а-яА-Я, ]').sub('', x), list(cp_s['Артикул'])))"
   ]
  },
  {
   "cell_type": "code",
   "execution_count": 26,
   "id": "95e27585",
   "metadata": {},
   "outputs": [
    {
     "data": {
      "text/html": [
       "<div>\n",
       "<style scoped>\n",
       "    .dataframe tbody tr th:only-of-type {\n",
       "        vertical-align: middle;\n",
       "    }\n",
       "\n",
       "    .dataframe tbody tr th {\n",
       "        vertical-align: top;\n",
       "    }\n",
       "\n",
       "    .dataframe thead th {\n",
       "        text-align: right;\n",
       "    }\n",
       "</style>\n",
       "<table border=\"1\" class=\"dataframe\">\n",
       "  <thead>\n",
       "    <tr style=\"text-align: right;\">\n",
       "      <th></th>\n",
       "      <th>Артикул</th>\n",
       "      <th>Себестоимость</th>\n",
       "    </tr>\n",
       "  </thead>\n",
       "  <tbody>\n",
       "    <tr>\n",
       "      <th>0</th>\n",
       "      <td>28600</td>\n",
       "      <td>362.04</td>\n",
       "    </tr>\n",
       "    <tr>\n",
       "      <th>1</th>\n",
       "      <td>28601</td>\n",
       "      <td>285.20</td>\n",
       "    </tr>\n",
       "    <tr>\n",
       "      <th>2</th>\n",
       "      <td>50000</td>\n",
       "      <td>327.09</td>\n",
       "    </tr>\n",
       "    <tr>\n",
       "      <th>3</th>\n",
       "      <td>50001</td>\n",
       "      <td>433.83</td>\n",
       "    </tr>\n",
       "    <tr>\n",
       "      <th>4</th>\n",
       "      <td>H0012</td>\n",
       "      <td>1224.04</td>\n",
       "    </tr>\n",
       "    <tr>\n",
       "      <th>5</th>\n",
       "      <td>H0013</td>\n",
       "      <td>1224.05</td>\n",
       "    </tr>\n",
       "    <tr>\n",
       "      <th>6</th>\n",
       "      <td>H0015</td>\n",
       "      <td>1478.10</td>\n",
       "    </tr>\n",
       "  </tbody>\n",
       "</table>\n",
       "</div>"
      ],
      "text/plain": [
       "  Артикул  Себестоимость\n",
       "0   28600         362.04\n",
       "1   28601         285.20\n",
       "2   50000         327.09\n",
       "3   50001         433.83\n",
       "4   H0012        1224.04\n",
       "5   H0013        1224.05\n",
       "6   H0015        1478.10"
      ]
     },
     "execution_count": 26,
     "metadata": {},
     "output_type": "execute_result"
    }
   ],
   "source": [
    "f_cp = pd.read_excel(path_downloads + 'временно другая себестоимость.xlsx')\n",
    "f_cp['Артикул'] = f_cp['Артикул'].astype(str)\n",
    "f_cp"
   ]
  },
  {
   "cell_type": "code",
   "execution_count": 27,
   "id": "97bf3021",
   "metadata": {},
   "outputs": [
    {
     "data": {
      "text/plain": [
       "346336.006795465"
      ]
     },
     "execution_count": 27,
     "metadata": {},
     "output_type": "execute_result"
    }
   ],
   "source": [
    "cp_s['Себестоимость'].sum()"
   ]
  },
  {
   "cell_type": "code",
   "execution_count": 28,
   "id": "e6547b40",
   "metadata": {},
   "outputs": [],
   "source": [
    "for i in range(len(cp_s)):\n",
    "    art = cp_s.loc[i]['Артикул']\n",
    "    if art in list(set(f_cp['Артикул'])):\n",
    "#         print(f_cp[f_cp['Артикул']==art]['Себестоимость'].values[0])\n",
    "        cp_s['Себестоимость'].loc[i] = f_cp[f_cp['Артикул']==art]['Себестоимость'].values[0]"
   ]
  },
  {
   "cell_type": "code",
   "execution_count": 29,
   "id": "484c09b8",
   "metadata": {},
   "outputs": [
    {
     "data": {
      "text/plain": [
       "['20500К', '20501К', '20501Р', 'B0072Н', 'G0182к', 'безназвания', 'с20502']"
      ]
     },
     "execution_count": 29,
     "metadata": {},
     "output_type": "execute_result"
    }
   ],
   "source": [
    "list(filter(lambda x: re.compile('[^а-яА-Я ]').sub('', x), list(cp_s['Артикул'])))"
   ]
  },
  {
   "cell_type": "code",
   "execution_count": null,
   "id": "9e113ee6",
   "metadata": {},
   "outputs": [],
   "source": []
  },
  {
   "cell_type": "code",
   "execution_count": 30,
   "id": "2e58b4f4",
   "metadata": {},
   "outputs": [],
   "source": [
    "cp_s = cp_s[cp_s['Себестоимость'].astype(str)!='nan'].reset_index(drop=True)"
   ]
  },
  {
   "cell_type": "code",
   "execution_count": null,
   "id": "143ac497",
   "metadata": {},
   "outputs": [],
   "source": []
  },
  {
   "cell_type": "code",
   "execution_count": 31,
   "id": "67bf2c5f",
   "metadata": {},
   "outputs": [
    {
     "data": {
      "text/plain": [
       "0"
      ]
     },
     "execution_count": 31,
     "metadata": {},
     "output_type": "execute_result"
    }
   ],
   "source": [
    "len(cp_s) - len(list(set(cp_s['Артикул'])))"
   ]
  },
  {
   "cell_type": "code",
   "execution_count": 32,
   "id": "ceb5249f",
   "metadata": {},
   "outputs": [
    {
     "data": {
      "text/html": [
       "<div>\n",
       "<style scoped>\n",
       "    .dataframe tbody tr th:only-of-type {\n",
       "        vertical-align: middle;\n",
       "    }\n",
       "\n",
       "    .dataframe tbody tr th {\n",
       "        vertical-align: top;\n",
       "    }\n",
       "\n",
       "    .dataframe thead th {\n",
       "        text-align: right;\n",
       "    }\n",
       "</style>\n",
       "<table border=\"1\" class=\"dataframe\">\n",
       "  <thead>\n",
       "    <tr style=\"text-align: right;\">\n",
       "      <th></th>\n",
       "      <th>Артикул</th>\n",
       "      <th>Себестоимость</th>\n",
       "    </tr>\n",
       "  </thead>\n",
       "  <tbody>\n",
       "    <tr>\n",
       "      <th>103</th>\n",
       "      <td>20500</td>\n",
       "      <td>620.32</td>\n",
       "    </tr>\n",
       "  </tbody>\n",
       "</table>\n",
       "</div>"
      ],
      "text/plain": [
       "    Артикул  Себестоимость\n",
       "103   20500         620.32"
      ]
     },
     "execution_count": 32,
     "metadata": {},
     "output_type": "execute_result"
    }
   ],
   "source": [
    "cp_s[cp_s['Артикул']=='20500']"
   ]
  },
  {
   "cell_type": "code",
   "execution_count": 33,
   "id": "d3865845",
   "metadata": {},
   "outputs": [
    {
     "data": {
      "text/plain": [
       "['G0634,', 'G0635,']"
      ]
     },
     "execution_count": 33,
     "metadata": {},
     "output_type": "execute_result"
    }
   ],
   "source": [
    "[x for x in list(cp_s['Артикул']) if ',' in x]"
   ]
  },
  {
   "cell_type": "code",
   "execution_count": 34,
   "id": "ac5ff298",
   "metadata": {},
   "outputs": [],
   "source": [
    "cp_s = cp_s[cp_s[\"Артикул\"].isin([x for x in list(cp_s['Артикул']) if ',' in x])==False].reset_index(drop=True)"
   ]
  },
  {
   "cell_type": "code",
   "execution_count": null,
   "id": "cc4147b9",
   "metadata": {},
   "outputs": [],
   "source": []
  },
  {
   "cell_type": "code",
   "execution_count": null,
   "id": "91813cbf",
   "metadata": {},
   "outputs": [],
   "source": []
  },
  {
   "cell_type": "code",
   "execution_count": 35,
   "id": "8e3a894f",
   "metadata": {},
   "outputs": [
    {
     "data": {
      "text/plain": [
       "345175.87679546507"
      ]
     },
     "execution_count": 35,
     "metadata": {},
     "output_type": "execute_result"
    }
   ],
   "source": [
    "cp_s['Себестоимость'].sum()"
   ]
  },
  {
   "cell_type": "code",
   "execution_count": 36,
   "id": "1de80845",
   "metadata": {},
   "outputs": [
    {
     "data": {
      "text/plain": [
       "345175.87679546507"
      ]
     },
     "execution_count": 36,
     "metadata": {},
     "output_type": "execute_result"
    }
   ],
   "source": [
    "cp_s['Себестоимость'].sum()"
   ]
  },
  {
   "cell_type": "code",
   "execution_count": null,
   "id": "2221e931",
   "metadata": {},
   "outputs": [],
   "source": []
  },
  {
   "cell_type": "code",
   "execution_count": null,
   "id": "e7648e59",
   "metadata": {},
   "outputs": [],
   "source": []
  },
  {
   "cell_type": "code",
   "execution_count": null,
   "id": "4401151d",
   "metadata": {},
   "outputs": [],
   "source": []
  },
  {
   "cell_type": "code",
   "execution_count": 37,
   "id": "4f7aaec0",
   "metadata": {},
   "outputs": [],
   "source": [
    "cp_s.to_excel(path_cp, index=False)"
   ]
  },
  {
   "cell_type": "code",
   "execution_count": null,
   "id": "2f9c0ac6",
   "metadata": {},
   "outputs": [],
   "source": []
  },
  {
   "cell_type": "code",
   "execution_count": null,
   "id": "6e3bf369",
   "metadata": {},
   "outputs": [],
   "source": []
  },
  {
   "cell_type": "code",
   "execution_count": null,
   "id": "ce997222",
   "metadata": {},
   "outputs": [],
   "source": []
  },
  {
   "cell_type": "code",
   "execution_count": 38,
   "id": "b6004e93",
   "metadata": {},
   "outputs": [],
   "source": [
    "cp_s_for_db = cp_s.copy()\n",
    "cp_s_for_db['date'] = const.dt_now.date().strftime('%d-%B-%Y')\n",
    "mwm.unique_items(cp_s_for_db)\n",
    "cp_s_for_db.columns = ['Артикул', 'Себестоимость', 'date']"
   ]
  },
  {
   "cell_type": "code",
   "execution_count": 39,
   "id": "fc59bfea",
   "metadata": {},
   "outputs": [],
   "source": [
    "# mwm.create_table(cp_s_for_db,\n",
    "#              'cost_price',\n",
    "#              ['Артикул', 'date'])\n",
    "# mwm.add_comment_from_table('cost_price',\n",
    "#                            'Себестоимость',\n",
    "#                            'для наценки с НДС в руб')"
   ]
  },
  {
   "cell_type": "code",
   "execution_count": null,
   "id": "6e6bf470",
   "metadata": {},
   "outputs": [],
   "source": []
  },
  {
   "cell_type": "code",
   "execution_count": 40,
   "id": "3a33124c",
   "metadata": {},
   "outputs": [],
   "source": [
    "mwm.update_data_date_filter(cp_s_for_db,\n",
    "                            'cost_price',\n",
    "                            'date')"
   ]
  },
  {
   "cell_type": "code",
   "execution_count": null,
   "id": "24fa279a",
   "metadata": {},
   "outputs": [],
   "source": []
  },
  {
   "cell_type": "code",
   "execution_count": null,
   "id": "0375f255",
   "metadata": {},
   "outputs": [],
   "source": []
  },
  {
   "cell_type": "markdown",
   "id": "24a4b07d",
   "metadata": {},
   "source": [
    "## Обновление файла cost_price 2.0 на корпоративном гугл диске "
   ]
  },
  {
   "cell_type": "code",
   "execution_count": 41,
   "id": "65424e6c",
   "metadata": {},
   "outputs": [
    {
     "name": "stdout",
     "output_type": "stream",
     "text": [
      "Your browser has been opened to visit:\n",
      "\n",
      "    https://accounts.google.com/o/oauth2/auth?client_id=141351806184-lcpctltvgumjg7nedaiblgr9vtjpk98v.apps.googleusercontent.com&redirect_uri=http%3A%2F%2Flocalhost%3A8080%2F&scope=https%3A%2F%2Fwww.googleapis.com%2Fauth%2Fdrive&access_type=offline&response_type=code\n",
      "\n",
      "Authentication successful.\n"
     ]
    }
   ],
   "source": [
    "# Подключение к гугл диску, аутентефикация\n",
    "\n",
    "gauth = GoogleAuth()\n",
    "gauth.LocalWebserverAuth()\n",
    "drive = GoogleDrive(gauth)\n",
    "\n",
    "\n",
    "# Находим \"id\" папки \"Дима\"\n",
    "\n",
    "id_folder_Dima = [x['id'] for x in drive\\\n",
    "                 .ListFile({'q': \"'root' in parents and trashed=false\"}).GetList() if x['title'] == \"Дима\"]\n",
    "if len(id_folder_Dima) != 1:\n",
    "    print('error')\n",
    "    int('error')\n",
    "else:\n",
    "    id_folder_Dima = id_folder_Dima[0]\n",
    "\n",
    "    \n",
    "# Находим \"id\" файла \"cost_price 2.0\" в папке \"Дима\"\n",
    "\n",
    "id_cp = [x['id'] for x in drive.ListFile({'q': f\"'{id_folder_Dima}' in parents and trashed=false\"})\\\n",
    ".GetList() if 'cost_price 2.0' in x['title']]\n",
    "\n",
    "if len(id_cp) != 1:\n",
    "    print('error')\n",
    "    int('error')\n",
    "else:\n",
    "    id_cp = id_cp[0]\n",
    "\n",
    "    \n",
    "# Путь к файлу \"cost_price 2.0\" на локальном компьютере\n",
    "\n",
    "path_file = path_algoritm + \"ОБЩИЕ ПРИЗНАКИ ДЛЯ МЕТРИК/Себестоимость /cost_price 2.0.xlsx\"\n",
    "\n",
    "\n",
    "# Обновление файла \"cost_price 2.0\" на корпоративном гугл диске \n",
    "\n",
    "file = drive.CreateFile({'id': id_cp})\n",
    "file.SetContentFile(path_file)\n",
    "file.Upload()"
   ]
  },
  {
   "cell_type": "code",
   "execution_count": null,
   "id": "565736e5",
   "metadata": {},
   "outputs": [],
   "source": []
  },
  {
   "cell_type": "code",
   "execution_count": null,
   "id": "51a52792",
   "metadata": {},
   "outputs": [],
   "source": []
  },
  {
   "cell_type": "code",
   "execution_count": null,
   "id": "a4b640e1",
   "metadata": {},
   "outputs": [],
   "source": []
  },
  {
   "cell_type": "code",
   "execution_count": null,
   "id": "ebb14103",
   "metadata": {},
   "outputs": [],
   "source": []
  },
  {
   "cell_type": "code",
   "execution_count": null,
   "id": "baa20310",
   "metadata": {},
   "outputs": [],
   "source": []
  },
  {
   "cell_type": "code",
   "execution_count": null,
   "id": "525d5b17",
   "metadata": {},
   "outputs": [],
   "source": []
  },
  {
   "cell_type": "code",
   "execution_count": null,
   "id": "2b4a5149",
   "metadata": {},
   "outputs": [],
   "source": []
  },
  {
   "cell_type": "code",
   "execution_count": null,
   "id": "64e81840",
   "metadata": {},
   "outputs": [],
   "source": []
  },
  {
   "cell_type": "code",
   "execution_count": null,
   "id": "56437c31",
   "metadata": {},
   "outputs": [],
   "source": []
  }
 ],
 "metadata": {
  "kernelspec": {
   "display_name": "Python 3 (ipykernel)",
   "language": "python",
   "name": "python3"
  },
  "language_info": {
   "codemirror_mode": {
    "name": "ipython",
    "version": 3
   },
   "file_extension": ".py",
   "mimetype": "text/x-python",
   "name": "python",
   "nbconvert_exporter": "python",
   "pygments_lexer": "ipython3",
   "version": "3.9.18"
  },
  "widgets": {
   "application/vnd.jupyter.widget-state+json": {
    "state": {},
    "version_major": 2,
    "version_minor": 0
   }
  }
 },
 "nbformat": 4,
 "nbformat_minor": 5
}
