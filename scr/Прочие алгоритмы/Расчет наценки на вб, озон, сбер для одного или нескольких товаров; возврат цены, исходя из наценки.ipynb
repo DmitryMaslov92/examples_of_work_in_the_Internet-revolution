{
 "cells": [
  {
   "cell_type": "markdown",
   "id": "def58a11",
   "metadata": {},
   "source": [
    "# Расчет наценки на вб, озон, сбер для одного или нескольких товаров; возврат цены, исходя из наценки"
   ]
  },
  {
   "cell_type": "markdown",
   "id": "621618a0",
   "metadata": {},
   "source": [
    "#### Импорты"
   ]
  },
  {
   "cell_type": "code",
   "execution_count": 16,
   "id": "50b289be",
   "metadata": {},
   "outputs": [],
   "source": [
    "import pandas as pd\n",
    "import glob\n",
    "import sys\n",
    "link_to_table = 'https://docs.google.com/spreadsheets/d/1A1TyZPeq9r2HiDi-CHfmTfRpuAQYToib1vqyTx4ZyRE/edit#gid=0'\n",
    "df = pd.read_excel('/'.join(link_to_table.split('/')[:-1])+'/export?format=xlsx')\n",
    "PATH, df = [dict(df.loc[x]) for x in list(df.index)], None\n",
    "i = 0\n",
    "while len([py for py in glob.glob(f\"{PATH[i]['path_downloads']}*.xlsx\")]) == 0:\n",
    "    i +=1\n",
    "path_downloads = PATH[i]['path_downloads']\n",
    "path_algoritm = PATH[i]['path_algoritm']\n",
    "sys.path.append(f'{path_algoritm}Модули')\n",
    "import constants_for_marketplace_metrics_dags as const\n",
    "import working_with_marketplace_metrics_dags as wwm\n",
    "import maslow_working_module as mwm\n",
    "import wb_markups\n",
    "import oz_markups\n",
    "import sb_markups"
   ]
  },
  {
   "cell_type": "markdown",
   "id": "6d486f8f",
   "metadata": {},
   "source": [
    "### Список артикулов для примера"
   ]
  },
  {
   "cell_type": "code",
   "execution_count": 17,
   "id": "21da5127",
   "metadata": {},
   "outputs": [
    {
     "data": {
      "text/plain": [
       "['Z0501', '17012', '17013', '17010', '17011']"
      ]
     },
     "execution_count": 17,
     "metadata": {},
     "output_type": "execute_result"
    }
   ],
   "source": [
    "# Список артикулов\n",
    "Art_list = \"\"\"Z0501\n",
    "17012\n",
    "17013\n",
    "17010\n",
    "17011\"\"\".split('\\n')\n",
    "Art_list"
   ]
  },
  {
   "cell_type": "markdown",
   "id": "1149289e",
   "metadata": {},
   "source": [
    "### Список цен для примера"
   ]
  },
  {
   "cell_type": "code",
   "execution_count": 19,
   "id": "a918a340",
   "metadata": {},
   "outputs": [],
   "source": [
    "Price_list = [720, 334, 567, 598, 100]"
   ]
  },
  {
   "cell_type": "markdown",
   "id": "97475e39",
   "metadata": {},
   "source": [
    "#### ВБ, расчет наценки"
   ]
  },
  {
   "cell_type": "code",
   "execution_count": 20,
   "id": "41c3ad7b",
   "metadata": {},
   "outputs": [
    {
     "data": {
      "text/plain": [
       "[['17010', 146.76],\n",
       " ['17011', -56.59],\n",
       " ['17012', 289.71],\n",
       " ['17013', 555.59],\n",
       " ['Z0501', -2.94]]"
      ]
     },
     "execution_count": 20,
     "metadata": {},
     "output_type": "execute_result"
    }
   ],
   "source": [
    "wb_markups.creating_calculated_features(art_list=Art_list, # Список артикулов\n",
    "                                        price_list=Price_list, # Список цен\n",
    "                                        data=wb_markups.get_param_data(), # Датафрейм с параметрами для расчета (по умолчанию \"get_param_data\")\n",
    "                                        nds_koeff=0.2, # Коэффициет для расчета (0.2 для ir, 0.03 для kz)\n",
    "                                        flag_profit=False, # Возврат вместе с наценкой прибыли\n",
    "                                        flag_reclama=False) # Используем или нет расходы на рекламу в расчете наценки"
   ]
  },
  {
   "cell_type": "markdown",
   "id": "e400fc64",
   "metadata": {},
   "source": [
    "#### ВБ, расчет цены по наценке"
   ]
  },
  {
   "cell_type": "code",
   "execution_count": 21,
   "id": "0167c084",
   "metadata": {},
   "outputs": [
    {
     "data": {
      "text/plain": [
       "{'Z0501': 1742, '17012': 192, '17013': 201, '17010': 482, '17011': 620}"
      ]
     },
     "execution_count": 21,
     "metadata": {},
     "output_type": "execute_result"
    }
   ],
   "source": [
    "wb_markups.return_price(Art_list, \n",
    "                        default_nc=100) # По дефолту расчитывается для 100% наценки, можно изменить"
   ]
  },
  {
   "cell_type": "markdown",
   "id": "ecd4a152",
   "metadata": {},
   "source": [
    "#### ОЗОН, расчет наценки"
   ]
  },
  {
   "cell_type": "code",
   "execution_count": 22,
   "id": "1298d59c",
   "metadata": {},
   "outputs": [
    {
     "data": {
      "text/plain": [
       "[['17010', 137.17],\n",
       " ['17011', -67.74],\n",
       " ['17012', 266.77],\n",
       " ['17013', 531.06],\n",
       " ['Z0501', -6.28]]"
      ]
     },
     "execution_count": 22,
     "metadata": {},
     "output_type": "execute_result"
    }
   ],
   "source": [
    "oz_markups.calc_features(art_list=Art_list, \n",
    "                         price_list=Price_list, \n",
    "                         data=oz_markups.get_param_data(), \n",
    "                         flag='fbo', \n",
    "                         flag_profit=False, \n",
    "                         nds_koeff=0.2, \n",
    "                         flag_reclama=False)"
   ]
  },
  {
   "cell_type": "markdown",
   "id": "18762720",
   "metadata": {},
   "source": [
    "#### ОЗОН,, расчет цены по наценке"
   ]
  },
  {
   "cell_type": "code",
   "execution_count": 23,
   "id": "e322e2ae",
   "metadata": {},
   "outputs": [
    {
     "data": {
      "text/plain": [
       "{'Z0501': 1284, '17012': 179, '17013': 185, '17010': 377, '17011': 481}"
      ]
     },
     "execution_count": 23,
     "metadata": {},
     "output_type": "execute_result"
    }
   ],
   "source": [
    "oz_markups.return_price(Art_list, \n",
    "                        default_nc=50)"
   ]
  },
  {
   "cell_type": "markdown",
   "id": "7a0dd870",
   "metadata": {},
   "source": [
    "#### CБЕР, расчет наценки"
   ]
  },
  {
   "cell_type": "code",
   "execution_count": 24,
   "id": "228a8a8a",
   "metadata": {},
   "outputs": [
    {
     "data": {
      "text/plain": [
       "[['17010', 190.36794928935768],\n",
       " ['17011', -56.074627420373886],\n",
       " ['17012', 358.91874127023254],\n",
       " ['17013', 682.3290401717263],\n",
       " ['Z0501', 17.96924136196019]]"
      ]
     },
     "execution_count": 24,
     "metadata": {},
     "output_type": "execute_result"
    }
   ],
   "source": [
    "# Рекламы на сбере пока нет\n",
    "sb_markups.creating_calculated_features(art_list=Art_list,\n",
    "                                        price_list=Price_list, \n",
    "                                        data=sb_markups.get_param_data(), \n",
    "                                        nds_koeff=0.2,\n",
    "                                        flag_profit=False)"
   ]
  },
  {
   "cell_type": "markdown",
   "id": "e07e1a91",
   "metadata": {},
   "source": [
    "#### CБЕР, расчет цены по наценке"
   ]
  },
  {
   "cell_type": "code",
   "execution_count": 25,
   "id": "8a48f271",
   "metadata": {},
   "outputs": [
    {
     "data": {
      "text/plain": [
       "{'Z0501': 1375, '17012': 175, '17013': 182, '17010': 413, '17011': 527}"
      ]
     },
     "execution_count": 25,
     "metadata": {},
     "output_type": "execute_result"
    }
   ],
   "source": [
    "sb_markups.return_price(Art_list, \n",
    "                        default_nc=100) # По дефолту расчитывается для 100% наценки, можно изменить"
   ]
  },
  {
   "cell_type": "code",
   "execution_count": null,
   "id": "d1656c99",
   "metadata": {},
   "outputs": [],
   "source": []
  },
  {
   "cell_type": "code",
   "execution_count": null,
   "id": "4375d36b",
   "metadata": {},
   "outputs": [],
   "source": []
  },
  {
   "cell_type": "code",
   "execution_count": null,
   "id": "0cb049c1",
   "metadata": {},
   "outputs": [],
   "source": []
  },
  {
   "cell_type": "code",
   "execution_count": null,
   "id": "e19f9885",
   "metadata": {},
   "outputs": [],
   "source": []
  },
  {
   "cell_type": "code",
   "execution_count": null,
   "id": "51e93778",
   "metadata": {},
   "outputs": [],
   "source": []
  },
  {
   "cell_type": "code",
   "execution_count": null,
   "id": "5a427223",
   "metadata": {},
   "outputs": [],
   "source": []
  },
  {
   "cell_type": "code",
   "execution_count": null,
   "id": "1ae6d5e5",
   "metadata": {},
   "outputs": [],
   "source": []
  },
  {
   "cell_type": "code",
   "execution_count": null,
   "id": "225cb4b0",
   "metadata": {},
   "outputs": [],
   "source": []
  },
  {
   "cell_type": "code",
   "execution_count": null,
   "id": "9f02abfe",
   "metadata": {},
   "outputs": [],
   "source": []
  },
  {
   "cell_type": "code",
   "execution_count": null,
   "id": "a9b9f03a",
   "metadata": {},
   "outputs": [],
   "source": []
  },
  {
   "cell_type": "code",
   "execution_count": null,
   "id": "ffbb0304",
   "metadata": {},
   "outputs": [],
   "source": []
  },
  {
   "cell_type": "code",
   "execution_count": null,
   "id": "5be352e9",
   "metadata": {},
   "outputs": [],
   "source": []
  }
 ],
 "metadata": {
  "kernelspec": {
   "display_name": "Python 3 (ipykernel)",
   "language": "python",
   "name": "python3"
  },
  "language_info": {
   "codemirror_mode": {
    "name": "ipython",
    "version": 3
   },
   "file_extension": ".py",
   "mimetype": "text/x-python",
   "name": "python",
   "nbconvert_exporter": "python",
   "pygments_lexer": "ipython3",
   "version": "3.9.18"
  }
 },
 "nbformat": 4,
 "nbformat_minor": 5
}
