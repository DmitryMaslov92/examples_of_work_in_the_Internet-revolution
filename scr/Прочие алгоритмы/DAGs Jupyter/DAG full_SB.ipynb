{
 "cells": [
  {
   "cell_type": "markdown",
   "id": "e4d2d55a",
   "metadata": {},
   "source": [
    "# DAG full_SB"
   ]
  },
  {
   "cell_type": "code",
   "execution_count": 1,
   "id": "896209f4",
   "metadata": {},
   "outputs": [],
   "source": [
    "import re\n",
    "from typing import Any, Dict, List\n",
    "import pymysql\n",
    "# from airflow import DAG\n",
    "# from airflow.operators.python import PythonOperator\n",
    "import os \n",
    "import datetime\n",
    "import requests\n",
    "import time\n",
    "from sqlalchemy import create_engine\n",
    "import numpy as np\n",
    "import openpyxl\n",
    "import gspread\n",
    "import gspread_dataframe as gd\n",
    "from tqdm import tqdm\n",
    "from sys import exit\n",
    "import pandas as pd\n",
    "import sys\n",
    "import glob\n",
    "link_to_table = 'https://docs.google.com/spreadsheets/d/1A1TyZPeq9r2HiDi-CHfmTfRpuAQYToib1vqyTx4ZyRE/edit#gid=0'\n",
    "df = pd.read_excel('/'.join(link_to_table.split('/')[:-1])+'/export?format=xlsx')\n",
    "PATH, df = [dict(df.loc[x]) for x in list(df.index)], None\n",
    "i = 0\n",
    "while len([py for py in glob.glob(f\"{PATH[i]['path_downloads']}*.xlsx\")]) == 0:\n",
    "    i +=1\n",
    "path_downloads = PATH[i]['path_downloads']\n",
    "path_algoritm = PATH[i]['path_algoritm']\n",
    "sys.path.append(f'{path_algoritm}Модули')\n",
    "import constants_for_marketplace_metrics_dags as const\n",
    "import working_with_marketplace_metrics_dags as wwm\n",
    "\n",
    "bd_param = const.bd_param\n",
    "engine_param = const.engine_param\n",
    "maslow_json = path_downloads + const.maslow_json\n",
    "gc = gspread.service_account(filename=maslow_json)\n",
    "args = const.args\n",
    "os.environ['NO_PROXY'] = 'URL'\n",
    "\n",
    "def sb_orders_metrics(path_sb_orders_metrics):\n",
    "    df = pd.read_excel(wwm.path_full_SBER_df,\n",
    "                       sheet_name='sber_orders_metrics',\n",
    "                       dtype={'Артикул': 'str'})\n",
    "    df = wwm.data_columns_sorted(df[['Артикул']+wwm.dt_col(df)])[['Артикул']+list(df.columns[-10:])]\n",
    "    df = wwm.clear_article(df, 'Артикул')\n",
    "    df = df.fillna(0)\n",
    "    df.iloc[:, 1:] = df.iloc[:, 1:].astype(int)\n",
    "    df = df.groupby('Артикул').sum().reset_index(drop=False)\n",
    "    if len(wwm.date_res_table(df)) != len(df.columns[1:]):\n",
    "        exit()\n",
    "    wwm.unload_metrics(path_metrics=path_sb_orders_metrics, \n",
    "                       data1=df, \n",
    "                       column='Артикул')\n",
    "    T_sb_orders_metrics = wwm.get_T_metrics(path_metrics=path_sb_orders_metrics)\n",
    "    sh = gc.open(\"full_SB\")\n",
    "    list_name = 'sb_orders_metrics'\n",
    "    i = [x for x in list(range(len(sh.worksheets()))) if list_name in str(sh.worksheets()[x])][0]\n",
    "    ws = sh.get_worksheet(i)\n",
    "    ws.clear()\n",
    "    gd.set_with_dataframe(worksheet=ws,\n",
    "                          dataframe=T_sb_orders_metrics, \n",
    "                          include_index=True,\n",
    "                          include_column_header=True,\n",
    "                          resize=True)   \n",
    "\n",
    "def sb_fbo_stocks_metrics(path_sb_fbo_stocks_metrics):\n",
    "    df = pd.read_excel(wwm.path_full_SBER_df,\n",
    "                       sheet_name='stocks_sber_metrics',\n",
    "                       dtype={'Артикул': 'str'})\n",
    "    df = wwm.data_columns_sorted(df[['Артикул']+wwm.dt_col(df)])[['Артикул']+list(df.columns[-10:])]\n",
    "    df = wwm.clear_article(df, 'Артикул')\n",
    "    df = df.fillna(0)\n",
    "    df = df.groupby('Артикул').sum().reset_index(drop=False)\n",
    "    df.iloc[:, 1:] = df.iloc[:, 1:].astype(int)\n",
    "    wwm.unload_metrics(path_metrics=path_sb_fbo_stocks_metrics, \n",
    "                       data1=df, \n",
    "                       column='Артикул')\n",
    "    if len(wwm.date_res_table(df)) != len(df.columns[1:]):\n",
    "        df = wwm.recovery_stocks_days(df)\n",
    "        wwm.unload_metrics(path_metrics=path_sb_fbo_stocks_metrics, \n",
    "                           data1=df, \n",
    "                           column='Артикул')\n",
    "    else:\n",
    "        None\n",
    "    T_sb_fbo_stocks_metrics = wwm.get_T_metrics(path_metrics=path_sb_fbo_stocks_metrics)\n",
    "    sh = gc.open(\"full_SB\")\n",
    "    list_name = 'sb_fbo_stocks_metrics'\n",
    "    i = [x for x in list(range(len(sh.worksheets()))) if list_name in str(sh.worksheets()[x])][0]\n",
    "    ws = sh.get_worksheet(i)\n",
    "    ws.clear()\n",
    "    gd.set_with_dataframe(worksheet=ws,\n",
    "                          dataframe=T_sb_fbo_stocks_metrics, \n",
    "                          include_index=True,\n",
    "                          include_column_header=True,\n",
    "                          resize=True)\n",
    "    \n",
    "def sb_price_metrics(path_sb_price_metrics):\n",
    "    df = pd.read_excel(wwm.path_full_SBER_df,\n",
    "                       sheet_name='sber_price_metrics',\n",
    "                       dtype={'Артикул': 'str'})\n",
    "    df = wwm.data_columns_sorted(df[['Артикул']+wwm.dt_col(df)])[['Артикул']+list(df.columns[-10:])]\n",
    "    df = wwm.clear_article(df, 'Артикул')\n",
    "    df = df.fillna(0)\n",
    "    df = df.groupby('Артикул').mean().reset_index(drop=False)\n",
    "    df.iloc[:, 1:] = df.iloc[:, 1:].astype(int)\n",
    "    wwm.unload_metrics(path_metrics=path_sb_price_metrics, \n",
    "                       data1=df, \n",
    "                       column='Артикул')\n",
    "    if len(wwm.date_res_table(df)) != len(df.columns[1:]):\n",
    "        df = wwm.recovery_price_days(df)\n",
    "        wwm.unload_metrics(path_metrics=path_sb_price_metrics, \n",
    "                           data1=df, \n",
    "                           column='Артикул')\n",
    "    else:\n",
    "        None\n",
    "    T_sb_price_metrics = wwm.get_T_metrics(path_metrics=path_sb_price_metrics)\n",
    "    sh = gc.open(\"full_SB\")\n",
    "    list_name = 'sb_price_metrics'\n",
    "    i = [x for x in list(range(len(sh.worksheets()))) if list_name in str(sh.worksheets()[x])][0]\n",
    "    ws = sh.get_worksheet(i)\n",
    "    ws.clear()\n",
    "    gd.set_with_dataframe(worksheet=ws,\n",
    "                          dataframe=T_sb_price_metrics, \n",
    "                          include_index=True,\n",
    "                          include_column_header=True,\n",
    "                          resize=True)\n",
    "    \n",
    "# with DAG(\n",
    "#     dag_id='full_SB_dag',\n",
    "#     default_args=args,\n",
    "#     schedule_interval='55 05 * * *',\n",
    "#     start_date=datetime.datetime(2023, 11, 13),\n",
    "#     catchup=False,\n",
    "#     dagrun_timeout=datetime.timedelta(minutes=10)\n",
    "# ) as dag:\n",
    "\n",
    "#     sb_orders_metrics_task = PythonOperator(task_id = 'sb_orders_metrics',\n",
    "#                                             python_callable=sb_orders_metrics, \n",
    "#                                             op_kwargs={'path_sb_orders_metrics': wwm.path_sb_orders_metrics},\n",
    "#                                             dag=dag)\n",
    "    \n",
    "#     sb_fbo_stocks_metrics_task = PythonOperator(task_id = 'sb_fbo_stocks_metrics',\n",
    "#                                           python_callable=sb_fbo_stocks_metrics, \n",
    "#                                           op_kwargs={'path_sb_fbo_stocks_metrics': wwm.path_sb_fbo_stocks_metrics},\n",
    "#                                           dag=dag)\n",
    "    \n",
    "#     sb_price_metrics_task = PythonOperator(task_id = 'sb_price_metrics',\n",
    "#                                            python_callable=sb_price_metrics, \n",
    "#                                            op_kwargs={'path_sb_price_metrics': wwm.path_sb_price_metrics},\n",
    "#                                            dag=dag)\n",
    "    \n",
    "#     sb_orders_metrics_task >> \\\n",
    "#     sb_fbo_stocks_metrics_task >> \\\n",
    "#     sb_price_metrics_task"
   ]
  },
  {
   "cell_type": "code",
   "execution_count": null,
   "id": "840e6dd4",
   "metadata": {},
   "outputs": [],
   "source": []
  },
  {
   "cell_type": "code",
   "execution_count": 4,
   "id": "f4d344ee",
   "metadata": {},
   "outputs": [
    {
     "ename": "SystemExit",
     "evalue": "",
     "output_type": "error",
     "traceback": [
      "An exception has occurred, use %tb to see the full traceback.\n",
      "\u001b[0;31mSystemExit\u001b[0m\n"
     ]
    },
    {
     "name": "stderr",
     "output_type": "stream",
     "text": [
      "/Users/macbook/anaconda3/envs/work_venv/lib/python3.10/site-packages/IPython/core/interactiveshell.py:3534: UserWarning: To exit: use 'exit', 'quit', or Ctrl-D.\n",
      "  warn(\"To exit: use 'exit', 'quit', or Ctrl-D.\", stacklevel=1)\n"
     ]
    }
   ],
   "source": [
    "    df = pd.read_excel(wwm.path_full_SBER_df,\n",
    "                       sheet_name='sber_orders_metrics',\n",
    "                       dtype={'Артикул': 'str'})\n",
    "    df = wwm.data_columns_sorted(df[['Артикул']+wwm.dt_col(df)])[['Артикул']+list(df.columns[-10:])]\n",
    "    df = wwm.clear_article(df, 'Артикул')\n",
    "    df = df.fillna(0)\n",
    "    df.iloc[:, 1:] = df.iloc[:, 1:].astype(int)\n",
    "    df = df.groupby('Артикул').sum().reset_index(drop=False)\n",
    "    if len(wwm.date_res_table(df)) != len(df.columns[1:]):\n",
    "        exit()"
   ]
  },
  {
   "cell_type": "code",
   "execution_count": 10,
   "id": "7986c327",
   "metadata": {},
   "outputs": [
    {
     "data": {
      "text/plain": [
       "['02-March-2024',\n",
       " '03-March-2024',\n",
       " '04-March-2024',\n",
       " '05-March-2024',\n",
       " '06-March-2024',\n",
       " '07-March-2024',\n",
       " '08-March-2024',\n",
       " '09-March-2024',\n",
       " '10-March-2024',\n",
       " '11-March-2024',\n",
       " '12-March-2024']"
      ]
     },
     "execution_count": 10,
     "metadata": {},
     "output_type": "execute_result"
    }
   ],
   "source": [
    "[y.strftime('%d-%B-%Y') for y in sorted([pd.to_datetime(x) for x in wwm.dt_col(df)])]"
   ]
  },
  {
   "cell_type": "code",
   "execution_count": 12,
   "id": "17d1ba73",
   "metadata": {},
   "outputs": [],
   "source": [
    "df = df[['Артикул']+[y.strftime('%d-%B-%Y') for y in sorted([pd.to_datetime(x) for x in wwm.dt_col(df)])]]"
   ]
  },
  {
   "cell_type": "code",
   "execution_count": 13,
   "id": "20c05959",
   "metadata": {},
   "outputs": [],
   "source": [
    "path_sb_price_metrics = wwm.path_sb_orders_metrics"
   ]
  },
  {
   "cell_type": "code",
   "execution_count": 14,
   "id": "523c11ff",
   "metadata": {},
   "outputs": [
    {
     "name": "stdout",
     "output_type": "stream",
     "text": [
      "Были изменения, датафрейм выгружен\n"
     ]
    }
   ],
   "source": [
    "wwm.unload_metrics(path_metrics=path_sb_price_metrics, \n",
    "                   data1=df, \n",
    "                   column='Артикул')\n",
    "if len(wwm.date_res_table(df)) != len(df.columns[1:]):\n",
    "    df = wwm.recovery_price_days(df)\n",
    "    wwm.unload_metrics(path_metrics=path_sb_price_metrics, \n",
    "                       data1=df, \n",
    "                       column='Артикул')\n",
    "else:\n",
    "    None\n",
    "T_sb_price_metrics = wwm.get_T_metrics(path_metrics=path_sb_price_metrics)\n",
    "sh = gc.open(\"full_SB\")\n",
    "list_name = 'sb_price_metrics'\n",
    "i = [x for x in list(range(len(sh.worksheets()))) if list_name in str(sh.worksheets()[x])][0]\n",
    "ws = sh.get_worksheet(i)\n",
    "ws.clear()\n",
    "gd.set_with_dataframe(worksheet=ws,\n",
    "                      dataframe=T_sb_price_metrics, \n",
    "                      include_index=True,\n",
    "                      include_column_header=True,\n",
    "                      resize=True)"
   ]
  },
  {
   "cell_type": "code",
   "execution_count": null,
   "id": "3b0c63c8",
   "metadata": {},
   "outputs": [],
   "source": []
  },
  {
   "cell_type": "code",
   "execution_count": 2,
   "id": "335af1ad",
   "metadata": {},
   "outputs": [
    {
     "name": "stdout",
     "output_type": "stream",
     "text": [
      "Были изменения, датафрейм выгружен\n"
     ]
    }
   ],
   "source": [
    "sb_orders_metrics(wwm.path_sb_orders_metrics)"
   ]
  },
  {
   "cell_type": "code",
   "execution_count": 3,
   "id": "6b697bdb",
   "metadata": {},
   "outputs": [
    {
     "name": "stdout",
     "output_type": "stream",
     "text": [
      "Были изменения, датафрейм выгружен\n"
     ]
    },
    {
     "name": "stderr",
     "output_type": "stream",
     "text": [
      "100%|██████████████████████████████████████| 1097/1097 [00:01<00:00, 724.82it/s]\n"
     ]
    }
   ],
   "source": [
    "sb_fbo_stocks_metrics(wwm.path_sb_fbo_stocks_metrics)"
   ]
  },
  {
   "cell_type": "code",
   "execution_count": 4,
   "id": "1ec96ac5",
   "metadata": {},
   "outputs": [
    {
     "name": "stdout",
     "output_type": "stream",
     "text": [
      "Были изменения, датафрейм выгружен\n"
     ]
    }
   ],
   "source": [
    "sb_price_metrics(wwm.path_sb_price_metrics)"
   ]
  },
  {
   "cell_type": "code",
   "execution_count": null,
   "id": "6a9f61dc",
   "metadata": {},
   "outputs": [],
   "source": []
  },
  {
   "cell_type": "code",
   "execution_count": null,
   "id": "a7f6221c",
   "metadata": {},
   "outputs": [],
   "source": []
  },
  {
   "cell_type": "code",
   "execution_count": null,
   "id": "878232d4",
   "metadata": {},
   "outputs": [],
   "source": []
  },
  {
   "cell_type": "code",
   "execution_count": null,
   "id": "dec9226e",
   "metadata": {},
   "outputs": [],
   "source": []
  },
  {
   "cell_type": "code",
   "execution_count": null,
   "id": "804a28fd",
   "metadata": {},
   "outputs": [],
   "source": []
  },
  {
   "cell_type": "code",
   "execution_count": null,
   "id": "b04a905c",
   "metadata": {},
   "outputs": [],
   "source": []
  },
  {
   "cell_type": "code",
   "execution_count": null,
   "id": "5d8fd6aa",
   "metadata": {},
   "outputs": [],
   "source": []
  },
  {
   "cell_type": "code",
   "execution_count": null,
   "id": "6f39a038",
   "metadata": {},
   "outputs": [],
   "source": []
  },
  {
   "cell_type": "code",
   "execution_count": null,
   "id": "ed613d9b",
   "metadata": {},
   "outputs": [],
   "source": []
  },
  {
   "cell_type": "code",
   "execution_count": null,
   "id": "fa0c13e5",
   "metadata": {},
   "outputs": [],
   "source": []
  },
  {
   "cell_type": "code",
   "execution_count": null,
   "id": "1dc0bb57",
   "metadata": {},
   "outputs": [],
   "source": []
  },
  {
   "cell_type": "code",
   "execution_count": null,
   "id": "38c0cb4b",
   "metadata": {},
   "outputs": [],
   "source": []
  },
  {
   "cell_type": "code",
   "execution_count": null,
   "id": "6e356458",
   "metadata": {},
   "outputs": [],
   "source": []
  },
  {
   "cell_type": "code",
   "execution_count": null,
   "id": "5ef0d025",
   "metadata": {},
   "outputs": [],
   "source": []
  },
  {
   "cell_type": "code",
   "execution_count": null,
   "id": "ca53d49b",
   "metadata": {},
   "outputs": [],
   "source": []
  },
  {
   "cell_type": "code",
   "execution_count": null,
   "id": "ba01662b",
   "metadata": {},
   "outputs": [],
   "source": []
  },
  {
   "cell_type": "code",
   "execution_count": null,
   "id": "91d91d2c",
   "metadata": {},
   "outputs": [],
   "source": []
  },
  {
   "cell_type": "code",
   "execution_count": null,
   "id": "c72e15be",
   "metadata": {},
   "outputs": [],
   "source": []
  },
  {
   "cell_type": "code",
   "execution_count": null,
   "id": "96eb465c",
   "metadata": {},
   "outputs": [],
   "source": []
  },
  {
   "cell_type": "code",
   "execution_count": null,
   "id": "a947037d",
   "metadata": {},
   "outputs": [],
   "source": []
  },
  {
   "cell_type": "code",
   "execution_count": null,
   "id": "d415e036",
   "metadata": {},
   "outputs": [],
   "source": []
  }
 ],
 "metadata": {
  "kernelspec": {
   "display_name": "Python 3 (ipykernel)",
   "language": "python",
   "name": "python3"
  },
  "language_info": {
   "codemirror_mode": {
    "name": "ipython",
    "version": 3
   },
   "file_extension": ".py",
   "mimetype": "text/x-python",
   "name": "python",
   "nbconvert_exporter": "python",
   "pygments_lexer": "ipython3",
   "version": "3.10.13"
  }
 },
 "nbformat": 4,
 "nbformat_minor": 5
}
